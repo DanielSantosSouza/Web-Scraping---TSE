{
 "cells": [
  {
   "cell_type": "markdown",
   "id": "57cea077-3e9b-49de-bcb2-aa4b7004f393",
   "metadata": {},
   "source": [
    "# 1. Imports e Configs"
   ]
  },
  {
   "cell_type": "code",
   "execution_count": 1,
   "id": "6ec13261-10eb-4cdc-a638-bae8c5330dac",
   "metadata": {},
   "outputs": [],
   "source": [
    "import pandas as pd\n",
    "import os\n",
    "\n",
    "from selenium import webdriver\n",
    "from selenium.webdriver.chrome.service import Service\n",
    "from selenium.webdriver.chrome.options import Options\n",
    "from selenium.webdriver.common.by import By\n",
    "from selenium.webdriver.support.ui import WebDriverWait\n",
    "from selenium.webdriver.support import expected_conditions as EC\n",
    "\n",
    "pd.set_option('display.max_columns', None)\n",
    "pd.set_option('display.max_rows', None)"
   ]
  },
  {
   "cell_type": "markdown",
   "id": "2b3a701b-e1eb-4c43-8dee-9e001b0d3f37",
   "metadata": {},
   "source": [
    "# 2. Obtendo dados auxiliares"
   ]
  },
  {
   "cell_type": "markdown",
   "id": "c9befcfb-ba50-4c78-b27b-23546afaf7f2",
   "metadata": {},
   "source": [
    "## 2.1 Informações dos locais de votação e dos Candidatos"
   ]
  },
  {
   "cell_type": "code",
   "execution_count": 2,
   "id": "0a9aab64-1b8b-4d3e-9711-1bea86bed0bb",
   "metadata": {},
   "outputs": [],
   "source": [
    "########################################### Local de Votação ###########################################\n",
    "# importando o excel com os dados \n",
    "df_loc_vot = pd.read_csv('\\\\eleitorado_local_votacao_2024.csv', encoding='latin1', sep = ';', dtype = {'CD_MUNICIPIO': 'string', 'NR_ZONA': 'string', 'NR_SECAO': 'string', 'NR_LOCAL_VOTACAO': 'string'})\n",
    "\n",
    "# tratando os campos com as infos de zona e seção\n",
    "df_loc_vot['NR_ZONA'] = df_loc_vot['NR_ZONA'].str.zfill(4)\n",
    "\n",
    "df_loc_vot['NR_SECAO'] = df_loc_vot['NR_SECAO'].str.zfill(4)\n",
    "\n",
    "########################################### Candidatos ###########################################\n",
    "caminho_pasta = '\\\\consulta_cand_2024'\n",
    "\n",
    "lista_dfs = []\n",
    "\n",
    "for arquivo in os.listdir(caminho_pasta):\n",
    "    if arquivo.endswith('.csv'):\n",
    "        df = pd.read_csv(os.path.join(caminho_pasta, arquivo), encoding='latin1', sep = ';', dtype = {'NR_CANDIDATO': 'string', 'SG_UE': 'string', 'NR_PARTIDO': 'string'})\n",
    "        lista_dfs.append(df)\n",
    "\n",
    "df_cand = pd.concat(lista_dfs, ignore_index=True)\n",
    "\n",
    "df_cand['SG_UF'] = df_cand['SG_UF'].str.lower()"
   ]
  },
  {
   "cell_type": "markdown",
   "id": "a39fa9eb-f446-4a54-8394-fb2b2285fbec",
   "metadata": {},
   "source": [
    "### 2.1.2 Digite aqui o código do município, zona e seção que deseja."
   ]
  },
  {
   "cell_type": "code",
   "execution_count": 3,
   "id": "5d872c73-4472-4eed-8573-495bfcbcf046",
   "metadata": {},
   "outputs": [
    {
     "name": "stdout",
     "output_type": "stream",
     "text": [
      "Digite o código do município: \n"
     ]
    },
    {
     "name": "stdin",
     "output_type": "stream",
     "text": [
      " 13897\n"
     ]
    },
    {
     "name": "stdout",
     "output_type": "stream",
     "text": [
      "Digite a zona (4 Dígitos): \n"
     ]
    },
    {
     "name": "stdin",
     "output_type": "stream",
     "text": [
      " 118\n"
     ]
    },
    {
     "name": "stdout",
     "output_type": "stream",
     "text": [
      "Digite a seção (4 Dígitos): \n"
     ]
    },
    {
     "name": "stdin",
     "output_type": "stream",
     "text": [
      " 463\n"
     ]
    },
    {
     "name": "stdout",
     "output_type": "stream",
     "text": [
      "\n",
      "\n",
      "UF: ce\n",
      "Código do município: 13897\n",
      "Zona: 0118\n",
      "Seção: 0463\n"
     ]
    }
   ],
   "source": [
    "print('Digite o código do município: ')\n",
    "cod_municipio = input()\n",
    "\n",
    "print('Digite a zona (4 Dígitos): ')\n",
    "zona = input().zfill(4) \n",
    "\n",
    "print('Digite a seção (4 Dígitos): ')\n",
    "secao = input().zfill(4)\n",
    "\n",
    "uf = df_loc_vot[\n",
    "    (df_loc_vot['CD_MUNICIPIO'] == cod_municipio) &\n",
    "    (df_loc_vot['NR_ZONA'] == zona) &\n",
    "    (df_loc_vot['NR_SECAO'] == secao)\n",
    "].SG_UF.unique()[0].lower()\n",
    "\n",
    "print('\\n')\n",
    "print(f'UF: {uf}')\n",
    "print(f'Código do município: {cod_municipio}')\n",
    "print(f'Zona: {zona}')\n",
    "print(f'Seção: {secao}')"
   ]
  },
  {
   "cell_type": "markdown",
   "id": "0de28e74-2d05-413e-bcce-69df16c0d67f",
   "metadata": {},
   "source": [
    "# 3. Scraping"
   ]
  },
  {
   "cell_type": "code",
   "execution_count": 4,
   "id": "fa14e8f9-c76d-4826-8121-29b4d8938b5f",
   "metadata": {
    "tags": []
   },
   "outputs": [
    {
     "name": "stdout",
     "output_type": "stream",
     "text": [
      "Dados de Votação da Zona: 0118 e Seção: 0463 - OK!\n"
     ]
    }
   ],
   "source": [
    "try:\n",
    "    # configurando o navegador Chrome\n",
    "    chrome_options = Options()\n",
    "    chrome_options.add_argument('--disable-infobars')\n",
    "    chrome_options.add_argument('--start-maximized')\n",
    "    chrome_options.add_argument('--enable-javascript') # site do TSE usa javascript\n",
    "\n",
    "    # WebDriver\n",
    "    service = Service('\\\\chromedriver-win64\\\\chromedriver.exe')\n",
    "\n",
    "    # inicializando o navegador com todas as preferências acima\n",
    "    driver = webdriver.Chrome(service = service, options = chrome_options)\n",
    "\n",
    "    # URL\n",
    "    url = f'https://resultados.tse.jus.br/oficial/app/index.html#/eleicao;e=e619;uf={uf};mu={cod_municipio};ufbu={uf};mubu={cod_municipio};tipo=3;zn={zona};se={secao}/dados-de-urna/boletim-de-urna'\n",
    "    driver.get(url)\n",
    "\n",
    "    # ajuste técnico (rsrs) para renderizar o javascript\n",
    "    boletim_link = WebDriverWait(driver, 10).until(\n",
    "        EC.element_to_be_clickable((By.LINK_TEXT, 'Boletim de Urna'))\n",
    "    )\n",
    "\n",
    "    # clique no link de boletim de urna\n",
    "    boletim_link.click()\n",
    "\n",
    "    # redundancia para os dados terem carregados de fato\n",
    "    identificacoes = WebDriverWait(driver, 5).until(\n",
    "        EC.presence_of_all_elements_located((By.XPATH, \"//div[contains(@class, 'mb-2') and contains(@class, 'box-identificacao')]\"))\n",
    "    )\n",
    "\n",
    "    titulos = []\n",
    "    valores = []\n",
    "\n",
    "    # iterar sobre cada div encontrado acima\n",
    "    for identificacao in identificacoes:\n",
    "        \n",
    "        titulo = identificacao.find_element(By.CLASS_NAME, 'titulo-sm').text\n",
    "\n",
    "        valor = identificacao.find_element(By.CLASS_NAME, 'font-bold').text\n",
    "\n",
    "        if titulo in ['Município', 'Zona Eleitoral', 'Seção Eleitoral', 'Local de votação']:\n",
    "            titulos.append(titulo)\n",
    "            valores.append(valor)\n",
    "\n",
    "    dados_ident = pd.DataFrame({'Título': titulos, 'Valor': valores})\n",
    "\n",
    "    dados_ident.set_index('Título', inplace = True)\n",
    "\n",
    "    dados = []\n",
    "        \n",
    "    # localizando as linhas da tabela contendo as informacoes de voto por candidato\n",
    "    linhas = driver.find_elements(By.XPATH, \".//following-sibling::div[contains(@class, 'row ng-star-inserted')]//div[contains(@class, 'flex justify-between v-line')]\")\n",
    "\n",
    "    # extração das linhas encotradas acima\n",
    "    for linha in linhas:\n",
    "        \n",
    "        candidato = linha.find_element(By.XPATH, \".//p[contains(@class, 'mx-4+safe font-bold flex-1')]\").text\n",
    "\n",
    "        voto = linha.find_element(By.XPATH, \".//div[contains(@class, 'font-bold flex justify-end text-roxo')]\").text\n",
    "\n",
    "        dados.append({'NR_CANDIDATO': candidato, 'QTDE_VOTOS': voto})\n",
    "\n",
    "    df = pd.DataFrame(dados)\n",
    "\n",
    "    driver.quit()\n",
    "\n",
    "    # adicionando os dados de identificacao para o df final\n",
    "    df['COD_MUNICIPIO'] = dados_ident.loc['Município'].iloc[0]\n",
    "    df['ZONA'] = dados_ident.loc['Zona Eleitoral'].iloc[0]\n",
    "    df['SECAO'] = dados_ident.loc['Seção Eleitoral'].iloc[0]\n",
    "    df['LOCAL_VOTACAO'] = dados_ident.loc['Local de votação'].iloc[0]\n",
    "\n",
    "    print(f'Dados de Votação da Zona: {zona} e Seção: {secao} - OK!')\n",
    "\n",
    "except Exception as e:\n",
    "    # se ocorrer algum erro, encerrar o drive\n",
    "    driver.quit()\n",
    "    \n",
    "    # exibe a mensagem de erro para a zona e seção\n",
    "    print(f'Erro na Zona: {zona}, Seção: {secao}. Erro: {str(e)}')\n"
   ]
  },
  {
   "cell_type": "markdown",
   "id": "ed9d1181-cef0-42d7-98e3-003260cbb149",
   "metadata": {},
   "source": [
    "## 3.1 Tratamento dos Resultados"
   ]
  },
  {
   "cell_type": "code",
   "execution_count": 5,
   "id": "548ca605-7741-4bb0-a77e-41627caf42dc",
   "metadata": {},
   "outputs": [],
   "source": [
    "# extraindo somente os valores númericos da info do candidato\n",
    "df['NR_CANDIDATO'] = df['NR_CANDIDATO'].str.extract('(\\d+)')\n",
    "\n",
    "# extraindo informacoes dos candidatos\n",
    "df = df.merge(df_cand[['NR_CANDIDATO', 'SG_UE', 'NM_CANDIDATO', 'NR_PARTIDO', 'NM_PARTIDO', 'NM_URNA_CANDIDATO', 'SG_UF', 'NM_UE']], left_on = ['NR_CANDIDATO', 'COD_MUNICIPIO'], right_on = ['NR_CANDIDATO', 'SG_UE'], how = 'left')\n",
    "\n",
    "# transformacoes dos campos de uf e municipio\n",
    "df['SG_UF'] = df['SG_UF'].str.upper()\n",
    "\n",
    "df.rename(columns = {'SG_UF': 'UF', 'NM_UE': 'MUNICIPIO'}, inplace = True)\n",
    "\n",
    "# inserindo infos dos locais de votação\n",
    "df = df.merge(df_loc_vot[['CD_MUNICIPIO', 'NR_ZONA', 'NR_SECAO', 'NM_BAIRRO', 'NM_LOCAL_VOTACAO']], left_on = ['COD_MUNICIPIO', 'ZONA', 'SECAO'], right_on = ['CD_MUNICIPIO', 'NR_ZONA', 'NR_SECAO'], how = 'left')\n",
    "\n",
    "# mantendo somente os campos necessarios\n",
    "df = df[['NR_PARTIDO', 'NM_PARTIDO', 'NR_CANDIDATO', 'NM_CANDIDATO', 'NM_URNA_CANDIDATO', 'UF', 'MUNICIPIO', 'NM_BAIRRO', 'NM_LOCAL_VOTACAO', 'ZONA', 'SECAO', 'QTDE_VOTOS']]\n",
    "\n",
    "# extraindo eventuais informacoes duplicados\n",
    "df.drop_duplicates(inplace = True, ignore_index = True)"
   ]
  },
  {
   "cell_type": "code",
   "execution_count": 6,
   "id": "c261dd16-822d-4658-a8f7-0d149cd92c0a",
   "metadata": {},
   "outputs": [
    {
     "data": {
      "text/html": [
       "<div>\n",
       "<style scoped>\n",
       "    .dataframe tbody tr th:only-of-type {\n",
       "        vertical-align: middle;\n",
       "    }\n",
       "\n",
       "    .dataframe tbody tr th {\n",
       "        vertical-align: top;\n",
       "    }\n",
       "\n",
       "    .dataframe thead th {\n",
       "        text-align: right;\n",
       "    }\n",
       "</style>\n",
       "<table border=\"1\" class=\"dataframe\">\n",
       "  <thead>\n",
       "    <tr style=\"text-align: right;\">\n",
       "      <th></th>\n",
       "      <th>NR_PARTIDO</th>\n",
       "      <th>NM_PARTIDO</th>\n",
       "      <th>NR_CANDIDATO</th>\n",
       "      <th>NM_CANDIDATO</th>\n",
       "      <th>NM_URNA_CANDIDATO</th>\n",
       "      <th>UF</th>\n",
       "      <th>MUNICIPIO</th>\n",
       "      <th>NM_BAIRRO</th>\n",
       "      <th>NM_LOCAL_VOTACAO</th>\n",
       "      <th>ZONA</th>\n",
       "      <th>SECAO</th>\n",
       "      <th>QTDE_VOTOS</th>\n",
       "    </tr>\n",
       "  </thead>\n",
       "  <tbody>\n",
       "    <tr>\n",
       "      <th>0</th>\n",
       "      <td>10</td>\n",
       "      <td>REPUBLICANOS</td>\n",
       "      <td>10001</td>\n",
       "      <td>XISTO SOARES DE OLIVEIRA</td>\n",
       "      <td>XISTO</td>\n",
       "      <td>CE</td>\n",
       "      <td>FORTALEZA</td>\n",
       "      <td>PASSARÉ</td>\n",
       "      <td>COLÉGIO LIRA COUTINHO</td>\n",
       "      <td>0118</td>\n",
       "      <td>0463</td>\n",
       "      <td>1</td>\n",
       "    </tr>\n",
       "    <tr>\n",
       "      <th>1</th>\n",
       "      <td>10</td>\n",
       "      <td>REPUBLICANOS</td>\n",
       "      <td>10121</td>\n",
       "      <td>NATANAEL CHARLES NUNES BRITO</td>\n",
       "      <td>CHARLES BARREIRA</td>\n",
       "      <td>CE</td>\n",
       "      <td>FORTALEZA</td>\n",
       "      <td>PASSARÉ</td>\n",
       "      <td>COLÉGIO LIRA COUTINHO</td>\n",
       "      <td>0118</td>\n",
       "      <td>0463</td>\n",
       "      <td>1</td>\n",
       "    </tr>\n",
       "    <tr>\n",
       "      <th>2</th>\n",
       "      <td>10</td>\n",
       "      <td>REPUBLICANOS</td>\n",
       "      <td>10123</td>\n",
       "      <td>RONALDO MANCHADO MARTINS</td>\n",
       "      <td>RONALDO MARTINS</td>\n",
       "      <td>CE</td>\n",
       "      <td>FORTALEZA</td>\n",
       "      <td>PASSARÉ</td>\n",
       "      <td>COLÉGIO LIRA COUTINHO</td>\n",
       "      <td>0118</td>\n",
       "      <td>0463</td>\n",
       "      <td>10</td>\n",
       "    </tr>\n",
       "    <tr>\n",
       "      <th>3</th>\n",
       "      <td>10</td>\n",
       "      <td>REPUBLICANOS</td>\n",
       "      <td>10190</td>\n",
       "      <td>EUVALDO REIS DA COSTA</td>\n",
       "      <td>EVALDO COSTA</td>\n",
       "      <td>CE</td>\n",
       "      <td>FORTALEZA</td>\n",
       "      <td>PASSARÉ</td>\n",
       "      <td>COLÉGIO LIRA COUTINHO</td>\n",
       "      <td>0118</td>\n",
       "      <td>0463</td>\n",
       "      <td>1</td>\n",
       "    </tr>\n",
       "    <tr>\n",
       "      <th>4</th>\n",
       "      <td>10</td>\n",
       "      <td>REPUBLICANOS</td>\n",
       "      <td>10224</td>\n",
       "      <td>JONAS ALVES CORDEIRO FILHO</td>\n",
       "      <td>JONAS FILHO</td>\n",
       "      <td>CE</td>\n",
       "      <td>FORTALEZA</td>\n",
       "      <td>PASSARÉ</td>\n",
       "      <td>COLÉGIO LIRA COUTINHO</td>\n",
       "      <td>0118</td>\n",
       "      <td>0463</td>\n",
       "      <td>1</td>\n",
       "    </tr>\n",
       "  </tbody>\n",
       "</table>\n",
       "</div>"
      ],
      "text/plain": [
       "  NR_PARTIDO    NM_PARTIDO NR_CANDIDATO                  NM_CANDIDATO  \\\n",
       "0         10  REPUBLICANOS        10001      XISTO SOARES DE OLIVEIRA   \n",
       "1         10  REPUBLICANOS        10121  NATANAEL CHARLES NUNES BRITO   \n",
       "2         10  REPUBLICANOS        10123      RONALDO MANCHADO MARTINS   \n",
       "3         10  REPUBLICANOS        10190         EUVALDO REIS DA COSTA   \n",
       "4         10  REPUBLICANOS        10224    JONAS ALVES CORDEIRO FILHO   \n",
       "\n",
       "  NM_URNA_CANDIDATO  UF  MUNICIPIO NM_BAIRRO       NM_LOCAL_VOTACAO  ZONA  \\\n",
       "0             XISTO  CE  FORTALEZA   PASSARÉ  COLÉGIO LIRA COUTINHO  0118   \n",
       "1  CHARLES BARREIRA  CE  FORTALEZA   PASSARÉ  COLÉGIO LIRA COUTINHO  0118   \n",
       "2   RONALDO MARTINS  CE  FORTALEZA   PASSARÉ  COLÉGIO LIRA COUTINHO  0118   \n",
       "3      EVALDO COSTA  CE  FORTALEZA   PASSARÉ  COLÉGIO LIRA COUTINHO  0118   \n",
       "4       JONAS FILHO  CE  FORTALEZA   PASSARÉ  COLÉGIO LIRA COUTINHO  0118   \n",
       "\n",
       "  SECAO QTDE_VOTOS  \n",
       "0  0463          1  \n",
       "1  0463          1  \n",
       "2  0463         10  \n",
       "3  0463          1  \n",
       "4  0463          1  "
      ]
     },
     "execution_count": 6,
     "metadata": {},
     "output_type": "execute_result"
    }
   ],
   "source": [
    "df.head()"
   ]
  }
 ],
 "metadata": {
  "kernelspec": {
   "display_name": "Python 3 (ipykernel)",
   "language": "python",
   "name": "python3"
  },
  "language_info": {
   "codemirror_mode": {
    "name": "ipython",
    "version": 3
   },
   "file_extension": ".py",
   "mimetype": "text/x-python",
   "name": "python",
   "nbconvert_exporter": "python",
   "pygments_lexer": "ipython3",
   "version": "3.11.2"
  }
 },
 "nbformat": 4,
 "nbformat_minor": 5
}
